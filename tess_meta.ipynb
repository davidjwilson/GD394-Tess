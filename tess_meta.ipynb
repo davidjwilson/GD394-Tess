{
 "cells": [
  {
   "cell_type": "markdown",
   "metadata": {},
   "source": [
    "Just getting all the TESS headers listed"
   ]
  },
  {
   "cell_type": "code",
   "execution_count": 1,
   "metadata": {},
   "outputs": [],
   "source": [
    "import astropy.io.fits as fits\n",
    "import glob"
   ]
  },
  {
   "cell_type": "code",
   "execution_count": 2,
   "metadata": {},
   "outputs": [
    {
     "data": {
      "text/plain": [
       "['tess_fits_files/tess2019226182529-s0015-0000000259773610-0151-s_lc.fits',\n",
       " 'tess_fits_files/tess2019253231442-s0016-0000000259773610-0152-s_lc.fits']"
      ]
     },
     "execution_count": 2,
     "metadata": {},
     "output_type": "execute_result"
    }
   ],
   "source": [
    "tessfits = glob.glob('tess_fits_files/*fits')\n",
    "tessfits"
   ]
  },
  {
   "cell_type": "code",
   "execution_count": 11,
   "metadata": {},
   "outputs": [],
   "source": [
    "h15=fits.open(tessfits[0])\n",
    "h16=fits.open(tessfits[1])"
   ]
  },
  {
   "cell_type": "code",
   "execution_count": 8,
   "metadata": {},
   "outputs": [
    {
     "data": {
      "text/plain": [
       "SIMPLE  =                    T / conforms to FITS standards                     \n",
       "BITPIX  =                    8 / array data type                                \n",
       "NAXIS   =                    0 / number of array dimensions                     \n",
       "EXTEND  =                    T / file contains extensions                       \n",
       "NEXTEND =                    2 / number of standard extensions                  \n",
       "EXTNAME = 'PRIMARY '           / name of extension                              \n",
       "EXTVER  =                    1 / extension version number (not format version)  \n",
       "SIMDATA =                    F / file is based on simulated data                \n",
       "ORIGIN  = 'NASA/Ames'          / institution responsible for creating this file \n",
       "DATE    = '2019-09-23'         / file creation date.                            \n",
       "TSTART  =    1711.358773992636 / observation start time in TJD                  \n",
       "TSTOP   =    1737.410151544066 / observation stop time in TJD                   \n",
       "DATE-OBS= '2019-08-15T20:35:28.889Z' / TSTART as UTC calendar date              \n",
       "DATE-END= '2019-09-10T21:49:27.909Z' / TSTOP as UTC calendar date               \n",
       "CREATOR = '14943 LightCurveExporterPipelineModule' / pipeline job and program us\n",
       "PROCVER = 'spoc-4.0.9-20190919' / SW version                                    \n",
       "FILEVER = '1.0     '           / file format version                            \n",
       "TIMVERSN= 'OGIP/93-003'        / OGIP memo number for file format               \n",
       "TELESCOP= 'TESS    '           / telescope                                      \n",
       "INSTRUME= 'TESS Photometer'    / detector type                                  \n",
       "DATA_REL=                   21 / data release version number                    \n",
       "OBJECT  = 'TIC 259773610'      / string version of target id                    \n",
       "TICID   =            259773610 / unique tess target identifier                  \n",
       "SECTOR  =                   15 / Observing sector                               \n",
       "CAMERA  =                    2 / Camera number                                  \n",
       "CCD     =                    4 / CCD chip number                                \n",
       "PXTABLE =                  169 / pixel table id                                 \n",
       "RADESYS = 'ICRS    '           / reference frame of celestial coordinates       \n",
       "RA_OBJ  = 318.1834873140670000 / [deg] right ascension                          \n",
       "DEC_OBJ =  50.1049687177324000 / [deg] declination                              \n",
       "EQUINOX =               2000.0 / equinox of celestial coordinate system         \n",
       "PMRA    =          93.27600000 / [mas/yr] RA proper motion                      \n",
       "PMDEC   =         -16.42870000 / [mas/yr] Dec proper motion                     \n",
       "PMTOTAL =          94.71174352 / [mas/yr] total proper motion                   \n",
       "TESSMAG =          13.42500019 / [mag] TESS magnitude                           \n",
       "TEFF    =                      / [K] Effective temperature                      \n",
       "LOGG    =                      / [cm/s2] log10 surface gravity                  \n",
       "MH      =                      / [log10([M/H])] metallicity                     \n",
       "RADIUS  =                      / [solar radii] stellar radius                   \n",
       "TICVER  =                    8 / TICVER                                         \n",
       "CRMITEN =                    T / spacecraft cosmic ray mitigation enabled       \n",
       "CRBLKSZ =                   10 / [exposures] s/c cosmic ray mitigation block siz\n",
       "CRSPOC  =                    F / SPOC cosmic ray cleaning enabled               \n",
       "CHECKSUM= 'eHeehHbZeHbbeHbZ'   / HDU checksum updated 2019-09-23T09:16:08Z      "
      ]
     },
     "execution_count": 8,
     "metadata": {},
     "output_type": "execute_result"
    }
   ],
   "source": [
    "hdr15= h15[0].header\n",
    "hdr15"
   ]
  },
  {
   "cell_type": "code",
   "execution_count": 12,
   "metadata": {},
   "outputs": [
    {
     "data": {
      "text/plain": [
       "SIMPLE  =                    T / conforms to FITS standards                     \n",
       "BITPIX  =                    8 / array data type                                \n",
       "NAXIS   =                    0 / number of array dimensions                     \n",
       "EXTEND  =                    T / file contains extensions                       \n",
       "NEXTEND =                    2 / number of standard extensions                  \n",
       "EXTNAME = 'PRIMARY '           / name of extension                              \n",
       "EXTVER  =                    1 / extension version number (not format version)  \n",
       "SIMDATA =                    F / file is based on simulated data                \n",
       "ORIGIN  = 'NASA/Ames'          / institution responsible for creating this file \n",
       "DATE    = '2019-10-21'         / file creation date.                            \n",
       "TSTART  =    1738.646261768010 / observation start time in TJD                  \n",
       "TSTOP   =    1763.319861774435 / observation stop time in TJD                   \n",
       "DATE-OBS= '2019-09-12T03:29:27.833Z' / TSTART as UTC calendar date              \n",
       "DATE-END= '2019-10-06T19:39:26.873Z' / TSTOP as UTC calendar date               \n",
       "CREATOR = '15392 LightCurveExporterPipelineModule' / pipeline job and program us\n",
       "PROCVER = 'spoc-4.0.10-20191003' / SW version                                   \n",
       "FILEVER = '1.0     '           / file format version                            \n",
       "TIMVERSN= 'OGIP/93-003'        / OGIP memo number for file format               \n",
       "TELESCOP= 'TESS    '           / telescope                                      \n",
       "INSTRUME= 'TESS Photometer'    / detector type                                  \n",
       "DATA_REL=                   22 / data release version number                    \n",
       "OBJECT  = 'TIC 259773610'      / string version of target id                    \n",
       "TICID   =            259773610 / unique tess target identifier                  \n",
       "SECTOR  =                   16 / Observing sector                               \n",
       "CAMERA  =                    2 / Camera number                                  \n",
       "CCD     =                    3 / CCD chip number                                \n",
       "PXTABLE =                  174 / pixel table id                                 \n",
       "RADESYS = 'ICRS    '           / reference frame of celestial coordinates       \n",
       "RA_OBJ  = 318.1834873140670000 / [deg] right ascension                          \n",
       "DEC_OBJ =  50.1049687177324000 / [deg] declination                              \n",
       "EQUINOX =               2000.0 / equinox of celestial coordinate system         \n",
       "PMRA    =          93.27600000 / [mas/yr] RA proper motion                      \n",
       "PMDEC   =         -16.42870000 / [mas/yr] Dec proper motion                     \n",
       "PMTOTAL =          94.71174352 / [mas/yr] total proper motion                   \n",
       "TESSMAG =          13.42500019 / [mag] TESS magnitude                           \n",
       "TEFF    =                      / [K] Effective temperature                      \n",
       "LOGG    =                      / [cm/s2] log10 surface gravity                  \n",
       "MH      =                      / [log10([M/H])] metallicity                     \n",
       "RADIUS  =                      / [solar radii] stellar radius                   \n",
       "TICVER  =                    8 / TICVER                                         \n",
       "CRMITEN =                    T / spacecraft cosmic ray mitigation enabled       \n",
       "CRBLKSZ =                   10 / [exposures] s/c cosmic ray mitigation block siz\n",
       "CRSPOC  =                    F / SPOC cosmic ray cleaning enabled               \n",
       "CHECKSUM= 'goCcgmAbgmAbgmAb'   / HDU checksum updated 2019-10-21T15:15:25Z      "
      ]
     },
     "execution_count": 12,
     "metadata": {},
     "output_type": "execute_result"
    }
   ],
   "source": [
    "hdr16 = h16[0].header\n",
    "hdr16"
   ]
  },
  {
   "cell_type": "code",
   "execution_count": 13,
   "metadata": {},
   "outputs": [
    {
     "data": {
      "text/plain": [
       "51.961087781798824"
      ]
     },
     "execution_count": 13,
     "metadata": {},
     "output_type": "execute_result"
    }
   ],
   "source": [
    "hdr16['TSTOP'] -hdr15['TSTART']"
   ]
  },
  {
   "cell_type": "code",
   "execution_count": 14,
   "metadata": {},
   "outputs": [
    {
     "data": {
      "text/plain": [
       "('2019-08-15T20:35:28.889Z', '2019-10-06T19:39:26.873Z')"
      ]
     },
     "execution_count": 14,
     "metadata": {},
     "output_type": "execute_result"
    }
   ],
   "source": [
    "hdr15['DATE-OBS'], hdr16['DATE-END']"
   ]
  },
  {
   "cell_type": "code",
   "execution_count": 16,
   "metadata": {},
   "outputs": [
    {
     "data": {
      "text/plain": [
       "XTENSION= 'BINTABLE'           / marks the beginning of a new HDU               \n",
       "BITPIX  =                    8 / array data type                                \n",
       "NAXIS   =                    2 / number of array dimensions                     \n",
       "NAXIS1  =                  100 / length of first array dimension                \n",
       "NAXIS2  =                17765 / length of second array dimension               \n",
       "PCOUNT  =                    0 / group parameter count (not used)               \n",
       "GCOUNT  =                    1 / group count (not used)                         \n",
       "TFIELDS =                   20 / number of table fields                         \n",
       "TTYPE1  = 'TIME    '           / column title: data time stamps                 \n",
       "TFORM1  = 'D       '           / column format: 64-bit floating point           \n",
       "TUNIT1  = 'BJD - 2457000, days' / column units: Barycenter corrected TESS Julian\n",
       "TDISP1  = 'D14.7   '           / column display format                          \n",
       "TTYPE2  = 'TIMECORR'           / column title: barycentric correction           \n",
       "TFORM2  = 'E       '           / column format: 32-bit floating point           \n",
       "TUNIT2  = 'd       '           / column units: Days                             \n",
       "TDISP2  = 'E14.7   '           / column display format                          \n",
       "TTYPE3  = 'CADENCENO'          / column title: unique cadence number            \n",
       "TFORM3  = 'J       '           / column format: signed 32-bit integer           \n",
       "TDISP3  = 'I10     '           / column display format                          \n",
       "TTYPE4  = 'SAP_FLUX'           / column title: aperture photometry flux         \n",
       "TFORM4  = 'E       '           / column format: 32-bit floating point           \n",
       "TUNIT4  = 'e-/s    '           / column units: electrons per second             \n",
       "TDISP4  = 'E14.7   '           / column display format                          \n",
       "TTYPE5  = 'SAP_FLUX_ERR'       / column title: aperture phot. flux error        \n",
       "TFORM5  = 'E       '           / column format: 32-bit floating point           \n",
       "TUNIT5  = 'e-/s    '           / column units: electrons per second (1-sigma)   \n",
       "TDISP5  = 'E14.7   '           / column display format                          \n",
       "TTYPE6  = 'SAP_BKG '           / column title: aperture phot. background flux   \n",
       "TFORM6  = 'E       '           / column format: 32-bit floating point           \n",
       "TUNIT6  = 'e-/s    '           / column units: electrons per second             \n",
       "TDISP6  = 'E14.7   '           / column display format                          \n",
       "TTYPE7  = 'SAP_BKG_ERR'        / column title: ap. phot. background flux error  \n",
       "TFORM7  = 'E       '           / column format: 32-bit floating point           \n",
       "TUNIT7  = 'e-/s    '           / column units: electrons per second (1-sigma)   \n",
       "TDISP7  = 'E14.7   '           / column display format                          \n",
       "TTYPE8  = 'PDCSAP_FLUX'        / column title: aperture phot. PDC flux          \n",
       "TFORM8  = 'E       '           / column format: 32-bit floating point           \n",
       "TUNIT8  = 'e-/s    '           / column units: electrons per second             \n",
       "TDISP8  = 'E14.7   '           / column display format                          \n",
       "TTYPE9  = 'PDCSAP_FLUX_ERR'    / column title: ap. phot. PDC flux error         \n",
       "TFORM9  = 'E       '           / column format: 32-bit floating point           \n",
       "TUNIT9  = 'e-/s    '           / column units: electrons per second (1-sigma)   \n",
       "TDISP9  = 'E14.7   '           / column display format                          \n",
       "TTYPE10 = 'QUALITY '           / column title: aperture photometry quality flag \n",
       "TFORM10 = 'J       '           / column format: signed 32-bit integer           \n",
       "TDISP10 = 'B16.16  '           / column display format                          \n",
       "TTYPE11 = 'PSF_CENTR1'         / column title: PSF-fitted column centroid       \n",
       "TFORM11 = 'D       '           / column format: 64-bit floating point           \n",
       "TUNIT11 = 'pixel   '           / column units: pixel                            \n",
       "TDISP11 = 'F10.5   '           / column display format                          \n",
       "TTYPE12 = 'PSF_CENTR1_ERR'     / column title: PSF-fitted column error          \n",
       "TFORM12 = 'E       '           / column format: 32-bit floating point           \n",
       "TUNIT12 = 'pixel   '           / column units: pixel (1-sigma)                  \n",
       "TDISP12 = 'E14.7   '           / column display format                          \n",
       "TTYPE13 = 'PSF_CENTR2'         / column title: PSF-fitted row centroid          \n",
       "TFORM13 = 'D       '           / column format: 64-bit floating point           \n",
       "TUNIT13 = 'pixel   '           / column units: pixel                            \n",
       "TDISP13 = 'F10.5   '           / column display format                          \n",
       "TTYPE14 = 'PSF_CENTR2_ERR'     / column title: PSF-fitted row error             \n",
       "TFORM14 = 'E       '           / column format: 32-bit floating point           \n",
       "TUNIT14 = 'pixel   '           / column units: pixel (1-sigma)                  \n",
       "TDISP14 = 'E14.7   '           / column display format                          \n",
       "TTYPE15 = 'MOM_CENTR1'         / column title: moment-derived column centroid   \n",
       "TFORM15 = 'D       '           / column format: 64-bit floating point           \n",
       "TUNIT15 = 'pixel   '           / column units: pixel                            \n",
       "TDISP15 = 'F10.5   '           / column display format                          \n",
       "TTYPE16 = 'MOM_CENTR1_ERR'     / column title: moment-derived column error      \n",
       "TFORM16 = 'E       '           / column format: 32-bit floating point           \n",
       "TUNIT16 = 'pixel   '           / column units: pixel (1-sigma)                  \n",
       "TDISP16 = 'E14.7   '           / column display format                          \n",
       "TTYPE17 = 'MOM_CENTR2'         / column title: moment-derived row centroid      \n",
       "TFORM17 = 'D       '           / column format: 64-bit floating point           \n",
       "TUNIT17 = 'pixel   '           / column units: pixel                            \n",
       "TDISP17 = 'F10.5   '           / column display format                          \n",
       "TTYPE18 = 'MOM_CENTR2_ERR'     / column title: moment-derived row error         \n",
       "TFORM18 = 'E       '           / column format: 32-bit floating point           \n",
       "TUNIT18 = 'pixel   '           / column units: pixel (1-sigma)                  \n",
       "TDISP18 = 'E14.7   '           / column display format                          \n",
       "TTYPE19 = 'POS_CORR1'          / column title: column position correction       \n",
       "TFORM19 = 'E       '           / column format: 32-bit floating point           \n",
       "TUNIT19 = 'pixels  '           / column units: pixel                            \n",
       "TDISP19 = 'E14.7   '           / column display format                          \n",
       "TTYPE20 = 'POS_CORR2'          / column title: row position correction          \n",
       "TFORM20 = 'E       '           / column format: 32-bit floating point           \n",
       "TUNIT20 = 'pixels  '           / column units: pixel                            \n",
       "TDISP20 = 'E14.7   '           / column display format                          \n",
       "INHERIT =                    T / inherit the primary header                     \n",
       "EXTNAME = 'LIGHTCURVE'         / name of extension                              \n",
       "EXTVER  =                    1 / extension version number (not format version)  \n",
       "SIMDATA =                    F / file is based on simulated data                \n",
       "TELESCOP= 'TESS    '           / telescope                                      \n",
       "INSTRUME= 'TESS Photometer'    / detector type                                  \n",
       "OBJECT  = 'TIC 259773610'      / string version of target id                    \n",
       "TICID   =            259773610 / unique tess target identifier                  \n",
       "RADESYS = 'ICRS    '           / reference frame of celestial coordinates       \n",
       "RA_OBJ  = 318.1842843040592500 / [deg] right ascension                          \n",
       "DEC_OBJ =  50.1049687177324000 / [deg] declination                              \n",
       "EQUINOX =               2000.0 / equinox of celestial coordinate system         \n",
       "EXPOSURE=      19.541288893464 / [d] time on source                             \n",
       "TIMEREF = 'SOLARSYSTEM'        / barycentric correction applied to times        \n",
       "TASSIGN = 'SPACECRAFT'         / where time is assigned                         \n",
       "TIMESYS = 'TDB     '           / time system is Barycentric Dynamical Time (TDB)\n",
       "BJDREFI =              2457000 / integer part of BTJD reference date            \n",
       "BJDREFF =           0.00000000 / fraction of the day in BTJD reference date     \n",
       "TIMEUNIT= 'd       '           / time unit for TIME, TSTART and TSTOP           \n",
       "TELAPSE =      24.673344562454 / [d] TSTOP - TSTART                             \n",
       "LIVETIME=  19.5412888934636300 / [d] TELAPSE multiplied by DEADC                \n",
       "TSTART  =    1738.649095613061 / observation start time in BTJD                 \n",
       "TSTOP   =    1763.322440175515 / observation stop time in BTJD                  \n",
       "DATE-OBS= '2019-09-12T03:33:32.677Z' / TSTART as UTC calendar date              \n",
       "DATE-END= '2019-10-06T19:43:09.647Z' / TSTOP as UTC calendar date               \n",
       "DEADC   =   0.7920000000000000 / deadtime correction                            \n",
       "TIMEPIXR=                  0.5 / bin time beginning=0 middle=0.5 end=1          \n",
       "TIERRELA=             1.16E-05 / [d] relative time error                        \n",
       "INT_TIME=       1.980000000000 / [s] photon accumulation time per frame         \n",
       "READTIME=       0.020000000000 / [s] readout time per frame                     \n",
       "FRAMETIM=       2.000000000000 / [s] frame time (INT_TIME + READTIME)           \n",
       "NUM_FRM =                   60 / number of frames per time stamp                \n",
       "TIMEDEL = 0.001388888888888889 / [d] time resolution of data                    \n",
       "BACKAPP =                    T / background is subtracted                       \n",
       "DEADAPP =                    T / deadtime applied                               \n",
       "VIGNAPP =                    T / vignetting or collimator correction applied    \n",
       "GAINA   =     5.28000020980835 / [electrons/count] CCD output A gain            \n",
       "GAINB   =    5.260000228881836 / [electrons/count] CCD output B gain            \n",
       "GAINC   =                 5.25 / [electrons/count] CCD output C gain            \n",
       "GAIND   =    5.210000038146973 / [electrons/count] CCD output D gain            \n",
       "READNOIA=    9.873600006103516 / [electrons] read noise CCD output A            \n",
       "READNOIB=     7.62700080871582 / [electrons] read noise CCD output B            \n",
       "READNOIC=     7.71750020980835 / [electrons] read noise CCD output C            \n",
       "READNOID=     9.89900016784668 / [electrons] read noise CCD output D            \n",
       "NREADOUT=                   48 / number of read per cadence                     \n",
       "FXDOFF  =               209700 / compression fixed offset                       \n",
       "CDPP0_5 =        4491.07177734 / RMS CDPP on 0.5-hr time scales                 \n",
       "CDPP1_0 =        3445.38085938 / RMS CDPP on 1.0-hr time scales                 \n",
       "CDPP2_0 =        2628.20800781 / RMS CDPP on 2.0-hr time scales                 \n",
       "CROWDSAP=           0.59237289 / Ratio of target flux to total flux in op. ap.  \n",
       "FLFRCSAP=           0.55121398 / Frac. of target flux w/in the op. aperture     \n",
       "NSPSDDET=                    0 / Number of SPSDs detected                       \n",
       "NSPSDCOR=                    0 / Number of SPSDs corrected                      \n",
       "PDCVAR  =   0.5877756396744791 / Target variability                             \n",
       "PDCMETHD= 'msMAP   '           / PDC algorithm used for target                  \n",
       "NUMBAND =                    3 / Number of scale bands                          \n",
       "FITTYPE1= 'reducedRobust'      / Fit type used for band 1                       \n",
       "PR_GOOD1=   0.9261842370033264 / Prior goodness for band 1                      \n",
       "PR_WGHT1=                  0.0 / Prior weight for band 1                        \n",
       "FITTYPE2= 'prior   '           / Fit type used for band 2                       \n",
       "PR_GOOD2=   0.9260226488113403 / Prior goodness for band 2                      \n",
       "PR_WGHT2=    46.69064712524414 / Prior weight for band 2                        \n",
       "FITTYPE3= 'prior   '           / Fit type used for band 3                       \n",
       "PR_GOOD3=   0.8978819251060486 / Prior goodness for band 3                      \n",
       "PR_WGHT3=    45.27177429199219 / Prior weight for band 3                        \n",
       "PDC_TOT =   0.9996058344841003 / PDC total goodness metric for target           \n",
       "PDC_TOTP=    86.49874114990234 / PDC_TOT percentile compared to mod/out         \n",
       "PDC_COR =   0.9996516704559326 / PDC correlation goodness metric for target     \n",
       "PDC_CORP=    75.96785736083984 / PDC_COR percentile compared to mod/out         \n",
       "PDC_VAR =                      / PDC variability goodness metric for target     \n",
       "PDC_VARP=                      / PDC_VAR percentile compared to mod/out         \n",
       "PDC_NOI =   0.9991660118103027 / PDC noise goodness metric for target           \n",
       "PDC_NOIP=     93.6889877319336 / PDC_NOI percentile compared to mod/out         \n",
       "PDC_EPT =                      / PDC earth point goodness metric for target     \n",
       "PDC_EPTP=                      / PDC_EPT percentile compared to mod/out         \n",
       "CHECKSUM= 'YUEaaSBUTSBZYSBZ'   / HDU checksum updated 2019-10-21T15:15:25Z      \n",
       "TMOFST23=   1.5399999618530273 / (s) readout delay for camera 2 and ccd 3       \n",
       "MEANBLCA=                 6812 / [count] FSW mean black level CCD output A      \n",
       "MEANBLCB=                 6724 / [count] FSW mean black level CCD output B      \n",
       "MEANBLCC=                 6753 / [count] FSW mean black level CCD output C      \n",
       "MEANBLCD=                 6433 / [count] FSW mean black level CCD output D      "
      ]
     },
     "execution_count": 16,
     "metadata": {},
     "output_type": "execute_result"
    }
   ],
   "source": [
    "h16[1].header"
   ]
  },
  {
   "cell_type": "code",
   "execution_count": null,
   "metadata": {},
   "outputs": [],
   "source": []
  }
 ],
 "metadata": {
  "kernelspec": {
   "display_name": "Python 3",
   "language": "python",
   "name": "python3"
  },
  "language_info": {
   "codemirror_mode": {
    "name": "ipython",
    "version": 3
   },
   "file_extension": ".py",
   "mimetype": "text/x-python",
   "name": "python",
   "nbconvert_exporter": "python",
   "pygments_lexer": "ipython3",
   "version": "3.7.3"
  }
 },
 "nbformat": 4,
 "nbformat_minor": 4
}
