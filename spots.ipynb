{
 "cells": [
  {
   "cell_type": "markdown",
   "metadata": {},
   "source": [
    "Playing with starspot fitting codes."
   ]
  },
  {
   "cell_type": "code",
   "execution_count": 1,
   "metadata": {},
   "outputs": [],
   "source": [
    "import numpy as np\n",
    "import matplotlib.pyplot as plt\n",
    "import astropy.io.fits as fits\n",
    "import os\n",
    "import glob\n",
    "from astropy.table import Table\n",
    "from astropy.io import ascii\n",
    "import astropy.units as u\n",
    "import astropy.constants as const\n",
    "from astropy.modeling import models, fitting\n",
    "import lightkurve as lk\n",
    "from astropy.timeseries import LombScargle\n",
    "import scipy.signal as signal\n",
    "\n",
    "#matplotlib set up\n",
    "%matplotlib inline\n",
    "from matplotlib import rcParams\n",
    "rcParams[\"figure.figsize\"] = (14, 5)\n",
    "rcParams[\"font.size\"] = 20"
   ]
  },
  {
   "cell_type": "code",
   "execution_count": 7,
   "metadata": {},
   "outputs": [],
   "source": [
    "lcf = Table.read('gd394_2sector_lc.csv', format='csv')\n",
    "lc = lk.LightCurve(time=lcf['time'], flux=lcf['flux'], flux_err=lcf['flux_err'])"
   ]
  },
  {
   "cell_type": "code",
   "execution_count": 8,
   "metadata": {},
   "outputs": [
    {
     "data": {
      "text/plain": [
       "<matplotlib.axes._subplots.AxesSubplot at 0x7ff3e8252630>"
      ]
     },
     "execution_count": 8,
     "metadata": {},
     "output_type": "execute_result"
    },
    {
     "data": {
      "image/png": "[encoded data removed]",
      "text/plain": [
       "<Figure size 848.5x400 with 1 Axes>"
      ]
     },
     "metadata": {},
     "output_type": "display_data"
    }
   ],
   "source": [
    "period = 1.1458142776450486\n",
    "lc.fold(period).bin(300).scatter()"
   ]
  },
  {
   "cell_type": "code",
   "execution_count": 9,
   "metadata": {},
   "outputs": [],
   "source": [
    "import pymacula"
   ]
  },
  {
   "cell_type": "code",
   "execution_count": 14,
   "metadata": {},
   "outputs": [
    {
     "name": "stdout",
     "output_type": "stream",
     "text": [
      "Help on function macula in module pymacula.macula:\n",
      "\n",
      "macula(t, theta_star, theta_spot, theta_inst, derivatives=False, temporal=False, tdeltav=False, full_output=False, tstart=None, tend=None)\n",
      "    Wrapper for macula FORTRAN routine.\n",
      "    \n",
      "    Parameters\n",
      "    ----------\n",
      "    theta_star : array_like\n",
      "        Array of 12 parameters describing star:\n",
      "        ! ------------------------------------------------------------------------------\n",
      "        ! Theta_star(j) = Parameter vector for the star's intrinsic parameters\n",
      "        ! ------------------------------------------------------------------------------\n",
      "        ! Istar         = Theta_star(1)         ! Inclination of the star [rads]\n",
      "        ! Peq           = Theta_star(2)         ! Rot'n period of the star's equator [d]\n",
      "        ! kappa2        = Theta_star(3)         ! Quadratic differential rotation coeff\n",
      "        ! kappa4        = Theta_star(4)         ! Quartic differential rotation coeff\n",
      "        ! c1            = Theta_star(5)         ! 1st of four-coeff stellar LD terms\n",
      "        ! c2            = Theta_star(6)         ! 2nd of four-coeff stellar LD terms\n",
      "        ! c3            = Theta_star(7)         ! 3rd of four-coeff stellar LD terms\n",
      "        ! c4            = Theta_star(8)         ! 4th of four-coeff stellar LD terms\n",
      "        ! d1            = Theta_star(9)         ! 1st of four-coeff spot LD terms\n",
      "        ! d2            = Theta_star(10)        ! 2nd of four-coeff spot LD terms\n",
      "        ! d3            = Theta_star(11)        ! 3rd of four-coeff spot LD terms\n",
      "        ! d4            = Theta_star(12)        ! 4th of four-coeff spot LD terms\n",
      "        \n",
      "    theta_spot : array_like\n",
      "        Array of spot parameters, shape (8, Nspot)\n",
      "        ! ------------------------------------------------------------------------------\n",
      "        ! Theta_spot(j,k) = Parameters of the k^th spot\n",
      "        ! ------------------------------------------------------------------------------\n",
      "        ! Lambda0(k)    = Theta_spot(1,k)       ! Longitude of spot at time tref(k)\n",
      "        ! Phi0(k)       = Theta_spot(2,k)       ! Latitude of spot at time tref(k)\n",
      "        ! alphamax(k)   = Theta_spot(3,k)       ! Angular spot size at time tmax(k)\n",
      "        ! fspot(k)      = Theta_spot(4,k)       ! Spot-to-star flux contrast of spot k\n",
      "        ! tmax(k)       = Theta_spot(5,k)       ! Time at which spot k is largest\n",
      "        ! life(k)       = Theta_spot(6,k)       ! Lifetime of spot k (FWFM) [days]\n",
      "        ! ingress(k)    = Theta_spot(7,k)       ! Ingress duration of spot k [days]\n",
      "        ! egress(k)     = Theta_spot(8,k)       ! Egress duration of spot k  [days]\n",
      "    \n",
      "    theta_inst : array_like\n",
      "        Nuisance/instrumental parameters for each of 'm' data sets.\n",
      "        ! ------------------------------------------------------------------------------\n",
      "        ! Theta_inst(j,m) = Instrumental/nuisance parameters\n",
      "        ! ------------------------------------------------------------------------------\n",
      "        ! U(m)          = Theta_inst(1,m)       ! Baseline flux level for m^th data set\n",
      "        ! B(m)          = Theta_inst(2,m)       ! Blend factor for m^th data set\n",
      "    \n",
      "    derivatives : bool (optional)\n",
      "        Whether to calculate derivatives.\n",
      "    temporal : bool (optional)\n",
      "        Whether to calculate temporal derivatives\n",
      "    tdeltav : bool (optional)\n",
      "        Whether to calculate transit depth variations\n",
      "    full_output : bool (optional)\n",
      "        If True, then return all output; otherwise just return model flux.\n",
      "\n"
     ]
    }
   ],
   "source": [
    "help(pymacula.macula)"
   ]
  },
  {
   "cell_type": "code",
   "execution_count": null,
   "metadata": {},
   "outputs": [],
   "source": []
  }
 ],
 "metadata": {
  "kernelspec": {
   "display_name": "Python 3",
   "language": "python",
   "name": "python3"
  },
  "language_info": {
   "codemirror_mode": {
    "name": "ipython",
    "version": 3
   },
   "file_extension": ".py",
   "mimetype": "text/x-python",
   "name": "python",
   "nbconvert_exporter": "python",
   "pygments_lexer": "ipython3",
   "version": "3.7.3"
  }
 },
 "nbformat": 4,
 "nbformat_minor": 4
}
