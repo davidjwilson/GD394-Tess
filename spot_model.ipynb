{
 "cells": [
  {
   "cell_type": "markdown",
   "metadata": {},
   "source": [
    "Rebuilding the Dupuis+ spot model"
   ]
  },
  {
   "cell_type": "code",
   "execution_count": 2,
   "metadata": {},
   "outputs": [],
   "source": [
    "import numpy as np\n",
    "import matplotlib.pyplot as plt\n",
    "import astropy.io.fits as fits\n",
    "import os\n",
    "import glob\n",
    "from astropy.table import Table\n",
    "from astropy.io import ascii\n",
    "import astropy.units as u\n",
    "import astropy.constants as const\n",
    "from astropy.modeling import models, fitting\n",
    "import lightkurve as lk\n",
    "import matplotlib.gridspec as gridspec\n",
    "\n",
    "#matplotlib set up\n",
    "%matplotlib inline\n",
    "from matplotlib import rcParams\n",
    "rcParams[\"figure.figsize\"] = (14, 5)\n",
    "rcParams[\"font.size\"] = 20"
   ]
  },
  {
   "cell_type": "code",
   "execution_count": 19,
   "metadata": {},
   "outputs": [],
   "source": [
    "def spot(d, gamma, phi, U =1, kw=0):\n",
    "    eps0 = partial_coverage(d, phi, gamma) \n",
    "    c = U*(1-(1-kw)*eps0)\n",
    "    return c\n",
    "\n",
    "def coverage(d, phi, gamma):\n",
    "    k = np.sin(gamma)\n",
    "    z0 = get_z0(phi)\n",
    "    if  d <= (1 - k**2):\n",
    "        eps = k**2*z0\n",
    "    elif  d > (1 - k**2):\n",
    "        s = (1 - k**2)/d \n",
    "        v = (d - s) / (k*z0)\n",
    "        eps = (1/np.pi) *( np.arccos(s) - (s*(1-s**2)**0.5) + ( (k**2) * z0*(np.arccos(v) - (v*(1-v**2)**0.5))))\n",
    "    else:\n",
    "        eps =1\n",
    "    return eps\n",
    "\n",
    "def get_z0(phi, beta = 0.0, i =90, lam=180):\n",
    "    z0 = np.cos(lam - phi) * np.cos(beta) * np.sin(i) + np.sin(beta) * np.cos(i)\n",
    "    return z0\n",
    "\n"
   ]
  },
  {
   "cell_type": "code",
   "execution_count": 27,
   "metadata": {},
   "outputs": [
    {
     "name": "stderr",
     "output_type": "stream",
     "text": [
      "/home/david/anaconda3/lib/python3.7/site-packages/ipykernel_launcher.py:11: RuntimeWarning: invalid value encountered in arccos\n",
      "  # This is added back by InteractiveShellApp.init_path()\n",
      "/home/david/anaconda3/lib/python3.7/site-packages/ipykernel_launcher.py:11: RuntimeWarning: invalid value encountered in double_scalars\n",
      "  # This is added back by InteractiveShellApp.init_path()\n"
     ]
    },
    {
     "data": {
      "text/plain": [
       "[<matplotlib.lines.Line2D at 0x7f3e12eb81d0>]"
      ]
     },
     "execution_count": 27,
     "metadata": {},
     "output_type": "execute_result"
    },
    {
     "data": {
      "image/png": "[encoded data removed]",
      "text/plain": [
       "<Figure size 1008x360 with 1 Axes>"
      ]
     },
     "metadata": {
      "needs_background": "light"
     },
     "output_type": "display_data"
    }
   ],
   "source": [
    "phi = np.linspace(0, 1, 100)\n",
    "ds = [np.cos(p) for p in phi]\n",
    "counts = [spot(d, 48.61, p) for d, p in zip(ds, phi)]\n",
    "plt.plot(ds, counts)"
   ]
  },
  {
   "cell_type": "code",
   "execution_count": 28,
   "metadata": {},
   "outputs": [
    {
     "data": {
      "text/plain": [
       "[1.0,\n",
       " 0.9999489852312267,\n",
       " 0.9997959461299198,\n",
       " 0.9995408983105885,\n",
       " 0.9991838677956433,\n",
       " 0.9987248910127429,\n",
       " 0.9981640147910761,\n",
       " 0.9975012963565844,\n",
       " 0.9967368033261231,\n",
       " 0.9958706137005628,\n",
       " 0.9949028158568303,\n",
       " 0.993833508538892,\n",
       " 0.992662800847679,\n",
       " 0.9913908122299557,\n",
       " 0.9900176724661326,\n",
       " 0.9885435216570246,\n",
       " 0.9869685102095573,\n",
       " 0.9852927988214202,\n",
       " 0.9835165584646711,\n",
       " 0.9816399703682924,\n",
       " 0.9796632259996998,\n",
       " 0.9775865270452068,\n",
       " 0.9754100853894475,\n",
       " 0.9731341230937576,\n",
       " 0.9707588723735174,\n",
       " 0.9682845755744598,\n",
       " 0.9657114851479426,\n",
       " 0.9630398636251922,\n",
       " 0.9602699835905172,\n",
       " 0.9574021276534964,\n",
       " 0.9544365884201449,\n",
       " 0.9513736684630593,\n",
       " 0.9482136802905462,\n",
       " 0.9449569463147377,\n",
       " 0.941603798818695,\n",
       " 0.9381545799225068,\n",
       " 0.9346096415483818,\n",
       " 0.9309693453847429,\n",
       " 0.9272340628493242,\n",
       " 0.9234041750512755,\n",
       " 0.9194800727522776,\n",
       " 0.9154621563266734,\n",
       " 0.9113508357206177,\n",
       " 0.9071465304102505,\n",
       " 0.9028496693588987,\n",
       " 0.8984606909733078,\n",
       " 0.8939800430589131,\n",
       " 0.8894081827741491,\n",
       " 0.8847455765838064,\n",
       " 0.8799927002114384,\n",
       " 0.8751500385908233,\n",
       " 0.8702180858164869,\n",
       " 0.8651973450932898,\n",
       " 0.8600883286850863,\n",
       " 0.8548915578624576,\n",
       " 0.8496075628495278,\n",
       " 0.8442368827698641,\n",
       " 0.8387800655914717,\n",
       " 0.8332376680708835,\n",
       " 0.8276102556963555,\n",
       " 0.82189840263017,\n",
       " 0.8161026916500538,\n",
       " 0.8102237140897178,\n",
       " 0.804262069778524,\n",
       " 0.7982183669802843,\n",
       " 0.7920932223312003,\n",
       " 0.7858872607769479,\n",
       " 0.7796011155089148,\n",
       " 0.7732354278995952,\n",
       " 0.7667908474371524,\n",
       " 0.7602680316591506,\n",
       " 0.753667646085467,\n",
       " 0.7469903641503894,\n",
       " 0.7402368671339057,\n",
       " 0.7334078440921934,\n",
       " 0.7265039917873152,\n",
       " 0.7195260146161291,\n",
       " 0.7124746245384189,\n",
       " 0.7053505410042532,\n",
       " 0.6981544908805807,\n",
       " 0.6908872083770673,\n",
       " 0.6835494349711865,\n",
       " 0.6761419193325651,\n",
       " 0.6686654172465983,\n",
       " 0.6611206915373364,\n",
       " 0.6535085119896543,\n",
       " 0.6458296552707112,\n",
       " 0.6380849048507068,\n",
       " 0.6302750509229451,\n",
       " 0.6224008903232103,\n",
       " 0.6144632264484673,\n",
       " 0.6064628691748903,\n",
       " 0.5984006347752321,\n",
       " 0.5902773458355403,\n",
       " 0.5820938311712284,\n",
       " 0.5738509257425134,\n",
       " 0.5655494705692241,\n",
       " 0.5571903126449929,\n",
       " 0.548774304850837,\n",
       " 0.5403023058681398]"
      ]
     },
     "execution_count": 28,
     "metadata": {},
     "output_type": "execute_result"
    }
   ],
   "source": [
    "ds"
   ]
  },
  {
   "cell_type": "code",
   "execution_count": null,
   "metadata": {},
   "outputs": [],
   "source": []
  }
 ],
 "metadata": {
  "kernelspec": {
   "display_name": "Python 3",
   "language": "python",
   "name": "python3"
  },
  "language_info": {
   "codemirror_mode": {
    "name": "ipython",
    "version": 3
   },
   "file_extension": ".py",
   "mimetype": "text/x-python",
   "name": "python",
   "nbconvert_exporter": "python",
   "pygments_lexer": "ipython3",
   "version": "3.7.5"
  }
 },
 "nbformat": 4,
 "nbformat_minor": 4
}
